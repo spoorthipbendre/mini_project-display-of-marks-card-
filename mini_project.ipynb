{
  "nbformat": 4,
  "nbformat_minor": 0,
  "metadata": {
    "colab": {
      "provenance": [],
      "authorship_tag": "ABX9TyM4J1oksfT0PxdkhWGVlqG0",
      "include_colab_link": true
    },
    "kernelspec": {
      "name": "python3",
      "display_name": "Python 3"
    },
    "language_info": {
      "name": "python"
    }
  },
  "cells": [
    {
      "cell_type": "markdown",
      "metadata": {
        "id": "view-in-github",
        "colab_type": "text"
      },
      "source": [
        "<a href=\"https://colab.research.google.com/github/spoorthipbendre/mini_project-display-of-marks-card-/blob/main/mini_project.ipynb\" target=\"_parent\"><img src=\"https://colab.research.google.com/assets/colab-badge.svg\" alt=\"Open In Colab\"/></a>"
      ]
    },
    {
      "cell_type": "code",
      "execution_count": null,
      "metadata": {
        "colab": {
          "base_uri": "https://localhost:8080/"
        },
        "id": "KWP1WMUz-wyr",
        "outputId": "36d5d41b-e824-43b3-f666-888c22bd035a"
      },
      "outputs": [
        {
          "output_type": "stream",
          "name": "stdout",
          "text": [
            "enter the roll_no:600\n",
            "Student not found.\n",
            "enter the roll_no:105\n",
            "student student5 marks is 10 \n",
            "studentstudent5 has failed\n",
            "enter the roll_no:103\n",
            "student student3 marks is 84 \n",
            "student student3 has passed\n",
            "enter the roll_no:101\n",
            "student student1 marks is 89 \n",
            "student student1 has passed\n",
            "enter the roll_no:102\n",
            "student student2 marks is 90 \n",
            "student student2 has passed\n"
          ]
        }
      ],
      "source": [
        "class student_details:\n",
        "  def __init__(self,name,roll_no,marks,result):\n",
        "    self.student_name=name\n",
        "    self.student_roll_no=roll_no\n",
        "    self.student_marks=marks\n",
        "    self.student_result=result\n",
        "\n",
        "  def marks(self):\n",
        "    print(f\"student {self.student_name} marks is {self.student_marks} \")\n",
        "\n",
        "  def result(self):\n",
        "    if(self.student_marks>30):\n",
        "      print(f\"student {self.student_name} has passed\")\n",
        "    else:\n",
        "      print(f\"student{self.student_name} has failed\")\n",
        "\n",
        "student1=student_details(\"student1\",101,89,\"pass\")\n",
        "student2=student_details(\"student2\",102,90,\"pass\")\n",
        "student3=student_details(\"student3\",103,84,\"pass\")\n",
        "student4=student_details(\"student4\",104,21,\"fail\")\n",
        "student5=student_details(\"student5\",105,10,\"fail\")\n",
        "\n",
        "for i in range(5):\n",
        "  roll_no=int(input(\"enter the roll_no:\"))\n",
        "  if(roll_no==101):\n",
        "    student1.marks()\n",
        "    student1.result()\n",
        "  elif(roll_no==102):\n",
        "    student2.marks()\n",
        "    student2.result()\n",
        "  elif(roll_no==103):\n",
        "    student3.marks()\n",
        "    student3.result()\n",
        "  elif(roll_no==104):\n",
        "    student4.marks()\n",
        "    student4.result()\n",
        "  elif(roll_no==105):\n",
        "    student5.marks()\n",
        "    student5.result()\n",
        "  else:\n",
        "    print(\"Student not found.\")\n",
        "\n",
        "\n"
      ]
    }
  ]
}